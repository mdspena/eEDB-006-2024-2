{
 "cells": [
  {
   "cell_type": "code",
   "execution_count": null,
   "metadata": {},
   "outputs": [],
   "source": [
    "spark.sparkContext.addPyFile(\"https://repo1.maven.org/maven2/org/apache/spark/spark-avro_2.12/3.1.2/spark-avro_2.12-3.1.2.jar\")"
   ]
  },
  {
   "cell_type": "code",
   "execution_count": null,
   "metadata": {},
   "outputs": [],
   "source": [
    "def read_file(spark, header, encoding, infer_schema, bucket_name, file_path):\n",
    "    return spark.read \\\n",
    "        .option('header', header) \\\n",
    "        .option('encoding', encoding) \\\n",
    "        .option('inferSchema', infer_schema) \\\n",
    "        .csv(f's3://{bucket_name}/{file_path}') \\\n",
    "        .cache()"
   ]
  },
  {
   "cell_type": "code",
   "execution_count": null,
   "metadata": {},
   "outputs": [],
   "source": [
    "def write_table(spark, df, bucket_name, database, table_name, file_format, save_as_table):\n",
    "    path = f's3://{bucket_name}/benchmark/{database}/{table_name}_{file_format}'\n",
    "    if save_as_table:\n",
    "        return df.write.mode('overwrite').format(file_format).option('path', path).saveAsTable(f'{database}.{table_name}_{file_format}')\n",
    "    return df.write.mode('overwrite').format(file_format).option('path', path).save()"
   ]
  },
  {
   "cell_type": "code",
   "execution_count": null,
   "metadata": {},
   "outputs": [],
   "source": [
    "bucket_name = 'eedb-006-2024-2-grupo-2'\n",
    "database = 'eedb_006'\n",
    "table_name = 'inep'\n",
    "file_path = 'incoming/NIVELSUPERIORNORMALIZADA2.csv'\n",
    "\n",
    "df = read_file(spark=spark, header=True, encoding='UTF-8', infer_schema=True, bucket_name=bucket_name, file_path=file_path)\n",
    "\n",
    "df.show(truncate=False, vertical=True, n=1)"
   ]
  },
  {
   "cell_type": "code",
   "execution_count": null,
   "metadata": {},
   "outputs": [],
   "source": [
    "df.dtypes"
   ]
  },
  {
   "cell_type": "code",
   "execution_count": null,
   "metadata": {},
   "outputs": [],
   "source": [
    "write_table(spark, df, bucket_name, database, table_name, 'parquet', True)\n",
    "write_table(spark, df, bucket_name, database, table_name, 'csv', False)\n",
    "write_table(spark, df, bucket_name, database, table_name, 'json', False)\n",
    "write_table(spark, df, bucket_name, database, table_name, 'avro', True)"
   ]
  }
 ],
 "metadata": {
  "kernelspec": {
   "display_name": "PySpark",
   "language": "python",
   "name": "pysparkkernel"
  },
  "language_info": {
   "codemirror_mode": {
    "name": "python",
    "version": 3
   },
   "file_extension": ".py",
   "mimetype": "text/x-python",
   "name": "pyspark",
   "pygments_lexer": "python3"
  }
 },
 "nbformat": 4,
 "nbformat_minor": 1
}
